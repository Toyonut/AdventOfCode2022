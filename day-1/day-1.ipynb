{
 "cells": [
  {
   "cell_type": "markdown",
   "metadata": {},
   "source": [
    "Find the highest amount of calories carried by an elf"
   ]
  },
  {
   "cell_type": "code",
   "execution_count": 8,
   "metadata": {
    "dotnet_interactive": {
     "language": "csharp"
    },
    "polyglot_notebook": {
     "language": "csharp"
    },
    "vscode": {
     "languageId": "dotnet-interactive.csharp"
    }
   },
   "outputs": [
    {
     "name": "stdout",
     "output_type": "stream",
     "text": [
      "elf 35 carrying 66186\n"
     ]
    }
   ],
   "source": [
    "var inputLines = System.IO.File.ReadAllLines(@\"./input-1.txt\");\n",
    "\n",
    "var elfNumber = 1;\n",
    "var elfCalories = 0;\n",
    "\n",
    "var elfList = new List<elf>();\n",
    "\n",
    "foreach (var line in inputLines)\n",
    "{\n",
    "    if (String.IsNullOrWhiteSpace(line))\n",
    "    {\n",
    "        elfList.Add(new elf() {elfNumber = elfNumber, elfCalories = elfCalories});\n",
    "        elfNumber += 1;\n",
    "        elfCalories = 0;\n",
    "    } \n",
    "    else \n",
    "    {\n",
    "        elfCalories += int.Parse(line);\n",
    "    }\n",
    "}\n",
    "\n",
    "// elfList.ForEach(e => Console.WriteLine($\"elf {e.elfNumber} carrying {e.elfCalories}\"));\n",
    "\n",
    "var topCalorieElf = elfList.OrderByDescending(e => e.elfCalories).First();\n",
    "Console.WriteLine($\"elf {topCalorieElf.elfNumber} carrying {topCalorieElf.elfCalories}\");\n",
    "\n",
    "\n",
    "public class elf\n",
    "{\n",
    "    public int elfNumber {get;set;}\n",
    "    public int elfCalories {get;set;}\n",
    "}"
   ]
  },
  {
   "cell_type": "markdown",
   "metadata": {},
   "source": [
    "Find the total calories carried by the top 3 elves"
   ]
  },
  {
   "cell_type": "code",
   "execution_count": 9,
   "metadata": {
    "dotnet_interactive": {
     "language": "csharp"
    },
    "vscode": {
     "languageId": "dotnet-interactive.csharp"
    }
   },
   "outputs": [
    {
     "name": "stdout",
     "output_type": "stream",
     "text": [
      "Top 3 elves are carrying 196804 calories\n"
     ]
    }
   ],
   "source": [
    "var inputLines = System.IO.File.ReadAllLines(@\"./input-1.txt\");\n",
    "\n",
    "var elfNumber = 1;\n",
    "var elfCalories = 0;\n",
    "\n",
    "var elfList = new List<elf>();\n",
    "\n",
    "foreach (var line in inputLines)\n",
    "{\n",
    "    if (String.IsNullOrWhiteSpace(line))\n",
    "    {\n",
    "        elfList.Add(new elf() {elfNumber = elfNumber, elfCalories = elfCalories});\n",
    "        elfNumber += 1;\n",
    "        elfCalories = 0;\n",
    "    } \n",
    "    else \n",
    "    {\n",
    "        elfCalories += int.Parse(line);\n",
    "    }\n",
    "}\n",
    "\n",
    "// elfList.ForEach(e => Console.WriteLine($\"elf {e.elfNumber} carrying {e.elfCalories}\"));\n",
    "\n",
    "\n",
    "var topThreeCalories = 0;\n",
    "elfList.OrderByDescending(e => e.elfCalories).Take(3).ToList().ForEach(e => topThreeCalories += e.elfCalories);\n",
    "\n",
    "\n",
    "Console.WriteLine($\"Top 3 elves are carrying {topThreeCalories} calories\");\n",
    "\n",
    "\n",
    "public class elf\n",
    "{\n",
    "    public int elfNumber {get;set;}\n",
    "    public int elfCalories {get;set;}\n",
    "}"
   ]
  }
 ],
 "metadata": {
  "kernelspec": {
   "display_name": ".NET (C#)",
   "language": "C#",
   "name": ".net-csharp"
  },
  "language_info": {
   "name": "C#"
  }
 },
 "nbformat": 4,
 "nbformat_minor": 2
}
