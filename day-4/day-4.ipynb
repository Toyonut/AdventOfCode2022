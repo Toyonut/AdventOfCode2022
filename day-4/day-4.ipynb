{
 "cells": [
  {
   "cell_type": "markdown",
   "metadata": {},
   "source": [
    "Find all the pairs of elves where their assigned cleaning rotation overlaps fully"
   ]
  },
  {
   "cell_type": "code",
   "execution_count": 4,
   "metadata": {
    "dotnet_interactive": {
     "language": "csharp"
    },
    "polyglot_notebook": {
     "language": "csharp"
    },
    "vscode": {
     "languageId": "dotnet-interactive.csharp"
    }
   },
   "outputs": [
    {
     "name": "stdout",
     "output_type": "stream",
     "text": [
      "498\n"
     ]
    }
   ],
   "source": [
    "// string[] testData = {\n",
    "//     \"2-4,6-8\",\n",
    "//     \"2-3,4-5\",\n",
    "//     \"5-7,7-9\",\n",
    "//     \"2-8,3-7\",\n",
    "//     \"6-6,4-6\",\n",
    "//     \"2-6,4-8\",\n",
    "// };\n",
    "var testData = System.IO.File.ReadAllLines(@\"./input-4.txt\");\n",
    "var matchedPairs = 0;\n",
    "\n",
    "foreach (var pair in testData)\n",
    "{\n",
    "    var elf1Roster = pair.Split(\",\")[0];\n",
    "    var elf2Roster = pair.Split(\",\")[1];\n",
    "\n",
    "    var elf1RangeStart = int.Parse(elf1Roster.Split(\"-\")[0]);\n",
    "    var elf1RangeEnd = int.Parse(elf1Roster.Split(\"-\")[1]);\n",
    "    var elf2RangeStart = int.Parse(elf2Roster.Split(\"-\")[0]);\n",
    "    var elf2RangeEnd = int.Parse(elf2Roster.Split(\"-\")[1]);\n",
    "\n",
    "    var elf1Sections = Enumerable.Range(elf1RangeStart, (elf1RangeEnd - elf1RangeStart + 1));\n",
    "    var elf2Sections = Enumerable.Range(elf2RangeStart, (elf2RangeEnd - elf2RangeStart + 1));\n",
    "\n",
    "    if (elf1Sections.All(x => elf2Sections.Contains(x)) || elf2Sections.All(x => elf1Sections.Contains(x)))\n",
    "    {\n",
    "        matchedPairs += 1;\n",
    "    }\n",
    "}\n",
    "\n",
    "Console.WriteLine(matchedPairs);"
   ]
  },
  {
   "cell_type": "markdown",
   "metadata": {
    "dotnet_interactive": {
     "language": "csharp"
    }
   },
   "source": [
    "Find where any cell overlaps"
   ]
  },
  {
   "cell_type": "code",
   "execution_count": 5,
   "metadata": {
    "dotnet_interactive": {
     "language": "csharp"
    },
    "vscode": {
     "languageId": "dotnet-interactive.csharp"
    }
   },
   "outputs": [
    {
     "name": "stdout",
     "output_type": "stream",
     "text": [
      "859\n"
     ]
    }
   ],
   "source": [
    "var testData = System.IO.File.ReadAllLines(@\"./input-4.txt\");\n",
    "var matchedPairs = 0;\n",
    "\n",
    "foreach (var pair in testData)\n",
    "{\n",
    "    var elf1Roster = pair.Split(\",\")[0];\n",
    "    var elf2Roster = pair.Split(\",\")[1];\n",
    "\n",
    "    var elf1RangeStart = int.Parse(elf1Roster.Split(\"-\")[0]);\n",
    "    var elf1RangeEnd = int.Parse(elf1Roster.Split(\"-\")[1]);\n",
    "    var elf2RangeStart = int.Parse(elf2Roster.Split(\"-\")[0]);\n",
    "    var elf2RangeEnd = int.Parse(elf2Roster.Split(\"-\")[1]);\n",
    "\n",
    "    var elf1Sections = Enumerable.Range(elf1RangeStart, (elf1RangeEnd - elf1RangeStart + 1));\n",
    "    var elf2Sections = Enumerable.Range(elf2RangeStart, (elf2RangeEnd - elf2RangeStart + 1));\n",
    "\n",
    "    if (elf1Sections.Any( x => elf2Sections.Contains(x)) || elf2Sections.Any(x => elf1Sections.Contains(x)))\n",
    "    {\n",
    "        matchedPairs += 1;\n",
    "    }\n",
    "}\n",
    "\n",
    "Console.WriteLine(matchedPairs);"
   ]
  }
 ],
 "metadata": {
  "kernelspec": {
   "display_name": ".NET (C#)",
   "language": "C#",
   "name": ".net-csharp"
  },
  "language_info": {
   "name": "C#"
  }
 },
 "nbformat": 4,
 "nbformat_minor": 2
}
