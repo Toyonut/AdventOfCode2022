{
 "cells": [
  {
   "attachments": {},
   "cell_type": "markdown",
   "metadata": {
    "dotnet_interactive": {
     "language": "csharp"
    },
    "polyglot_notebook": {
     "kernelName": "csharp"
    }
   },
   "source": [
    "Each tree is represented as a single digit whose value is its height, where 0 is the shortest and 9 is the tallest.\n",
    "\n",
    "A tree is visible if all of the other trees between it and an edge of the grid are shorter than it. Only consider trees in the same row or column; that is, only look up, down, left, or right from any given tree.\n",
    "\n",
    "All of the trees around the edge of the grid are visible - since they are already on the edge, there are no trees to block the view. In this example, that only leaves the interior nine trees to consider:\n",
    "\n",
    "The top-left 5 is visible from the left and top. (It isn't visible from the right or bottom since other trees of height 5 are in the way.)\n",
    "The top-middle 5 is visible from the top and right.\n",
    "The top-right 1 is not visible from any direction; for it to be visible, there would need to only be trees of height 0 between it and an edge.\n",
    "The left-middle 5 is visible, but only from the right.\n",
    "The center 3 is not visible from any direction; for it to be visible, there would need to be only trees of at most height 2 between it and an edge.\n",
    "The right-middle 3 is visible from the right.\n",
    "In the bottom row, the middle 5 is visible, but the 3 and 4 are not.\n",
    "With 16 trees visible on the edge and another 5 visible in the interior, a total of 21 trees are visible in this arrangement.\n",
    "\n",
    "Consider your map; how many trees are visible from outside the grid?"
   ]
  },
  {
   "cell_type": "code",
   "execution_count": 61,
   "metadata": {
    "dotnet_interactive": {
     "language": "csharp"
    },
    "polyglot_notebook": {
     "kernelName": "csharp"
    },
    "vscode": {
     "languageId": "polyglot-notebook"
    }
   },
   "outputs": [],
   "source": [
    "public class Tree {\n",
    "    public int Size { get; set; }\n",
    "    public bool IsVisible { get; set; }\n",
    "\n",
    "    // line of sight\n",
    "    public int[] ToLeft { get; set; }\n",
    "    public int[] ToRight { get; set; }\n",
    "    public int[] ToTop { get; set; }\n",
    "    public int[] ToBottom { get; set; }\n",
    "\n",
    "    public Tree (int size, bool isVisible = false) {\n",
    "        Size = size;\n",
    "        IsVisible = isVisible;\n",
    "    }\n",
    "}\n",
    "\n",
    "public List<List<Tree>> NewTreeGridRows (string testGrid)\n",
    "{\n",
    "    var treeGrid = new List<List<Tree>>();\n",
    "\n",
    "    foreach (var row in testGrid.Split(Environment.NewLine))\n",
    "    {\n",
    "        var treeRow = new List<Tree>();\n",
    "\n",
    "        row.ToList().ForEach(c => treeRow.Add(new Tree(int.Parse($\"{c}\"))));\n",
    "\n",
    "        treeGrid.Add(treeRow);\n",
    "    }\n",
    "\n",
    "    return treeGrid; \n",
    "}"
   ]
  },
  {
   "cell_type": "code",
   "execution_count": 62,
   "metadata": {
    "dotnet_interactive": {
     "language": "csharp"
    },
    "polyglot_notebook": {
     "kernelName": "csharp"
    },
    "vscode": {
     "languageId": "polyglot-notebook"
    }
   },
   "outputs": [],
   "source": [
    "public List<List<Tree>> NewTreeGridColumns (List<List<Tree>> treeGrid)\n",
    "{\n",
    "    var columnGrid = new List<List<Tree>>();\n",
    "\n",
    "    for (var i = 0; i < treeGrid.Count; i ++)\n",
    "    {\n",
    "        var treeColumn = new List<Tree>();\n",
    "\n",
    "        for (var c = 0; c < treeGrid[0].Count; c ++)\n",
    "        {\n",
    "            treeColumn.Add(treeGrid[c][i]); \n",
    "        }\n",
    "\n",
    "        columnGrid.Add(treeColumn);\n",
    "    }\n",
    "\n",
    "    return columnGrid; \n",
    "}"
   ]
  },
  {
   "cell_type": "code",
   "execution_count": 63,
   "metadata": {
    "dotnet_interactive": {
     "language": "csharp"
    },
    "polyglot_notebook": {
     "kernelName": "csharp"
    },
    "vscode": {
     "languageId": "polyglot-notebook"
    }
   },
   "outputs": [],
   "source": [
    "public List<List<Tree>> TreeRowLineOfSight (List<List<Tree>> treeGrid)\n",
    "{\n",
    "\n",
    "    for (var i = 0; i < treeGrid.Count; i ++)\n",
    "    {        \n",
    "        // Edge Trees\n",
    "        if (i == 0 || i == treeGrid.Count -1)\n",
    "        {\n",
    "            continue;\n",
    "        }\n",
    "\n",
    "        var treeRow = treeGrid[i];\n",
    "\n",
    "        for (var r = 0; r < treeRow.Count; r ++)\n",
    "        {\n",
    "            if (r == 0 || r == treeRow.Count -1)\n",
    "            {\n",
    "                continue;\n",
    "            }\n",
    "\n",
    "            treeGrid[i][r].ToLeft = treeRow.Select(t => t.Size).Take(r).ToArray();\n",
    "            treeGrid[i][r].ToRight = treeRow.Select(t => t.Size).Skip(r + 1).ToArray();\n",
    "        }\n",
    "    }\n",
    "\n",
    "    return treeGrid; \n",
    "}"
   ]
  },
  {
   "cell_type": "code",
   "execution_count": 64,
   "metadata": {
    "dotnet_interactive": {
     "language": "csharp"
    },
    "polyglot_notebook": {
     "kernelName": "csharp"
    },
    "vscode": {
     "languageId": "polyglot-notebook"
    }
   },
   "outputs": [],
   "source": [
    "public List<List<Tree>> TreeColumnLineOfSight (List<List<Tree>> treeGrid)\n",
    "{\n",
    "\n",
    "    for (var i = 0; i < treeGrid.Count; i ++)\n",
    "    {        \n",
    "        // Edge Trees\n",
    "        if (i == 0 || i == treeGrid.Count -1)\n",
    "        {\n",
    "            continue;\n",
    "        }\n",
    "\n",
    "        var treeColumn = treeGrid[i];\n",
    "\n",
    "        for (var r = 0; r < treeColumn.Count; r ++)\n",
    "        {\n",
    "            if (r == 0 || r == treeColumn.Count -1)\n",
    "            {\n",
    "                continue;\n",
    "            }\n",
    "\n",
    "            treeGrid[i][r].ToTop = treeColumn.Select(t => t.Size).Take(r).ToArray();\n",
    "            treeGrid[i][r].ToBottom = treeColumn.Select(t => t.Size).Skip(r + 1).ToArray();\n",
    "        }\n",
    "    }\n",
    "\n",
    "    return treeGrid; \n",
    "}"
   ]
  },
  {
   "cell_type": "code",
   "execution_count": 65,
   "metadata": {
    "dotnet_interactive": {
     "language": "csharp"
    },
    "polyglot_notebook": {
     "kernelName": "csharp"
    },
    "vscode": {
     "languageId": "polyglot-notebook"
    }
   },
   "outputs": [],
   "source": [
    "public int TreeVisibleCalculator (List<List<Tree>> treeGrid)\n",
    "{\n",
    "\n",
    "    var treeVisibleCount = 0;\n",
    "\n",
    "    for (var i = 0; i < treeGrid.Count; i ++)\n",
    "    {\n",
    "        for (var c = 0; c < treeGrid[0].Count; c ++)\n",
    "        {\n",
    "            if (c == 0 || i == 0)\n",
    "            {\n",
    "                treeGrid[i][c].IsVisible = true;\n",
    "                treeVisibleCount += 1;\n",
    "                continue;\n",
    "            }\n",
    "            \n",
    "            if (c == treeGrid[0].Count - 1 || i == treeGrid.Count -1)\n",
    "            {\n",
    "                treeGrid[i][c].IsVisible = true;\n",
    "                treeVisibleCount += 1;\n",
    "                continue;\n",
    "            }\n",
    "\n",
    "            var treeSize = treeGrid[i][c].Size;\n",
    "\n",
    "            if (treeGrid[i][c].ToLeft.Any(t => t >= treeSize) && \n",
    "                treeGrid[i][c].ToRight.Any(t => t >= treeSize) &&\n",
    "                treeGrid[i][c].ToTop.Any(t => t >= treeSize) &&\n",
    "                treeGrid[i][c].ToBottom.Any(t => t >= treeSize)) {\n",
    "                // Console.WriteLine(\"All trees in row or column taller\");\n",
    "            } else {\n",
    "                treeGrid[i][c].IsVisible = true;\n",
    "            }\n",
    "\n",
    "            if (treeGrid[i][c].IsVisible) {\n",
    "                treeVisibleCount += 1;\n",
    "            }\n",
    "        }\n",
    "    }\n",
    "\n",
    "    return treeVisibleCount;\n",
    "}"
   ]
  },
  {
   "cell_type": "code",
   "execution_count": 66,
   "metadata": {
    "dotnet_interactive": {
     "language": "csharp"
    },
    "polyglot_notebook": {
     "kernelName": "csharp"
    },
    "vscode": {
     "languageId": "polyglot-notebook"
    }
   },
   "outputs": [
    {
     "data": {
      "text/html": [
       "<div class=\"dni-plaintext\"><pre>1814</pre></div><style>\r\n",
       ".dni-code-hint {\r\n",
       "    font-style: italic;\r\n",
       "    overflow: hidden;\r\n",
       "    white-space: nowrap;\r\n",
       "}\r\n",
       ".dni-treeview {\r\n",
       "    white-space: nowrap;\r\n",
       "}\r\n",
       ".dni-treeview td {\r\n",
       "    vertical-align: top;\r\n",
       "    text-align: start;\r\n",
       "}\r\n",
       "details.dni-treeview {\r\n",
       "    padding-left: 1em;\r\n",
       "}\r\n",
       "table td {\r\n",
       "    text-align: start;\r\n",
       "}\r\n",
       "table tr { \r\n",
       "    vertical-align: top; \r\n",
       "    margin: 0em 0px;\r\n",
       "}\r\n",
       "table tr td pre \r\n",
       "{ \r\n",
       "    vertical-align: top !important; \r\n",
       "    margin: 0em 0px !important;\r\n",
       "} \r\n",
       "table th {\r\n",
       "    text-align: start;\r\n",
       "}\r\n",
       "</style>"
      ]
     },
     "metadata": {},
     "output_type": "display_data"
    }
   ],
   "source": [
    "var problemData = System.IO.File.ReadAllText(@\"./puzzle-data.txt\");\n",
    "\n",
    "var treeGridRows = NewTreeGridRows(problemData);\n",
    "\n",
    "treeGridRows = TreeRowLineOfSight(treeGridRows);\n",
    "\n",
    "var treeGridColumns = NewTreeGridColumns(treeGridRows);\n",
    "\n",
    "treeGridColumns = TreeColumnLineOfSight(treeGridColumns);\n",
    "\n",
    "var visibleCount = TreeVisibleCalculator(treeGridRows);\n",
    "\n",
    "visibleCount\n"
   ]
  }
 ],
 "metadata": {
  "kernelspec": {
   "display_name": ".NET (C#)",
   "language": "C#",
   "name": ".net-csharp"
  },
  "polyglot_notebook": {
   "kernelInfo": {
    "defaultKernelName": "csharp",
    "items": [
     {
      "aliases": [
       "c#",
       "C#"
      ],
      "languageName": "C#",
      "name": "csharp"
     },
     {
      "aliases": [],
      "name": ".NET"
     },
     {
      "aliases": [
       "f#",
       "F#"
      ],
      "languageName": "F#",
      "name": "fsharp"
     },
     {
      "aliases": [],
      "languageName": "HTML",
      "name": "html"
     },
     {
      "aliases": [],
      "languageName": "KQL",
      "name": "kql"
     },
     {
      "aliases": [],
      "languageName": "Mermaid",
      "name": "mermaid"
     },
     {
      "aliases": [
       "powershell"
      ],
      "languageName": "PowerShell",
      "name": "pwsh"
     },
     {
      "aliases": [],
      "languageName": "SQL",
      "name": "sql"
     },
     {
      "aliases": [],
      "name": "value"
     },
     {
      "aliases": [
       "frontend"
      ],
      "languageName": null,
      "name": "vscode"
     },
     {
      "aliases": [
       "js"
      ],
      "languageName": "JavaScript",
      "name": "javascript"
     },
     {
      "aliases": [],
      "name": "webview"
     }
    ]
   }
  }
 },
 "nbformat": 4,
 "nbformat_minor": 2
}
