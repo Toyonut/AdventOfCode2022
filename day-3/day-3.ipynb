{
 "cells": [
  {
   "cell_type": "markdown",
   "metadata": {
    "dotnet_interactive": {
     "language": "csharp"
    },
    "polyglot_notebook": {
     "kernelName": "csharp"
    }
   },
   "source": [
    "Split the test strings in two and work out the common characters\n",
    "\n",
    "work out the priorities of all the common characters\n",
    "\n",
    "To help prioritize item rearrangement, every item type can be converted to a priority:\n",
    "\n",
    "    Lowercase item types a through z have priorities 1 through 26.\n",
    "    Uppercase item types A through Z have priorities 27 through 52.\n",
    "\n"
   ]
  },
  {
   "cell_type": "code",
   "execution_count": null,
   "metadata": {
    "dotnet_interactive": {
     "language": "csharp"
    },
    "polyglot_notebook": {
     "language": "csharp"
    },
    "vscode": {
     "languageId": "polyglot-notebook"
    }
   },
   "outputs": [],
   "source": [
    "// string[] testData = {\n",
    "//     \"vJrwpWtwJgWrhcsFMMfFFhFp\",\n",
    "//     \"jqHRNqRjqzjGDLGLrsFMfFZSrLrFZsSL\",\n",
    "//     \"PmmdzqPrVvPwwTWBwg\",\n",
    "//     \"wMqvLMZHhHMvwLHjbvcjnnSBnvTQFn\",\n",
    "//     \"ttgJtRGJQctTZtZT\",\n",
    "//     \"CrZsJsPPZsGzwwsLwLmpwMDw\"\n",
    "// };\n",
    "var testData = System.IO.File.ReadAllLines(@\"./input-3.txt\");\n",
    "\n",
    "var priorities = \"abcdefghijklmnopqrstuvwxyzABCDEFGHIJKLMNOPQRSTUVWXYZ\".ToCharArray();\n",
    "var priorityValue = 0;\n",
    "\n",
    "foreach (var item in testData)\n",
    "{\n",
    "    var totalLength = item.Length;\n",
    "    var splitPoint = totalLength / 2;\n",
    "\n",
    "    var compartment1 = item.Substring(0, splitPoint);\n",
    "    var compartment2 = item.Substring(splitPoint);\n",
    "\n",
    "    // Console.WriteLine(compartment1);\n",
    "    // Console.WriteLine(compartment2);\n",
    "\n",
    "    var common = compartment1.Intersect(compartment2);\n",
    "\n",
    "    common.ToList().ForEach(c => priorityValue += (Array.IndexOf(priorities, c) + 1));\n",
    "}\n",
    "\n",
    "Console.WriteLine(priorityValue);"
   ]
  },
  {
   "cell_type": "markdown",
   "metadata": {
    "dotnet_interactive": {
     "language": "csharp"
    },
    "polyglot_notebook": {
     "kernelName": "csharp"
    }
   },
   "source": [
    "Additionally, nobody wrote down which item type corresponds to each group's badges. The only way to tell which item type is the right one is by finding the one item type that is common between all three Elves in each group.\n",
    "\n",
    "Every set of three lines in your list corresponds to a single group, but each group can have a different badge item type. So, in the above example, the first group's rucksacks are the first three lines:\n",
    "\n",
    "find the common letter between each group of three lines\n",
    "add up the values of the letters in each group"
   ]
  },
  {
   "cell_type": "code",
   "execution_count": null,
   "metadata": {
    "dotnet_interactive": {
     "language": "csharp"
    },
    "vscode": {
     "languageId": "polyglot-notebook"
    }
   },
   "outputs": [],
   "source": [
    "var testData = System.IO.File.ReadAllLines(@\"./input-3.txt\");\n",
    "\n",
    "var priorities = \"abcdefghijklmnopqrstuvwxyzABCDEFGHIJKLMNOPQRSTUVWXYZ\".ToCharArray();\n",
    "var priorityValue = 0;\n",
    "\n",
    "for (var i = 0; i < testData.Length; i += 3)\n",
    "{\n",
    "    var elfGroup = testData.Skip(i).Take(3).ToList();\n",
    "\n",
    "    var firstTwoCommon = elfGroup[0].Intersect(elfGroup[1]);\n",
    "    var secondTwoCommon = elfGroup[1].Intersect(elfGroup[2]);\n",
    "    var common = firstTwoCommon.Intersect(secondTwoCommon);\n",
    "\n",
    "    common.ToList().ForEach(c => priorityValue += (Array.IndexOf(priorities, c) + 1));\n",
    "}\n",
    "\n",
    "Console.WriteLine(priorityValue);"
   ]
  }
 ],
 "metadata": {
  "kernelspec": {
   "display_name": ".NET (C#)",
   "language": "C#",
   "name": ".net-csharp"
  },
  "polyglot_notebook": {
   "kernelInfo": {
    "defaultKernelName": "csharp",
    "items": [
     {
      "aliases": [
       "c#",
       "C#"
      ],
      "languageName": "C#",
      "name": "csharp"
     },
     {
      "aliases": [
       "frontend"
      ],
      "name": "vscode"
     },
     {
      "aliases": [],
      "name": ".NET"
     },
     {
      "aliases": [
       "f#",
       "F#"
      ],
      "languageName": "F#",
      "name": "fsharp"
     },
     {
      "aliases": [],
      "languageName": "HTML",
      "name": "html"
     },
     {
      "aliases": [],
      "languageName": "KQL",
      "name": "kql"
     },
     {
      "aliases": [],
      "languageName": "Mermaid",
      "name": "mermaid"
     },
     {
      "aliases": [
       "powershell"
      ],
      "languageName": "PowerShell",
      "name": "pwsh"
     },
     {
      "aliases": [],
      "languageName": "SQL",
      "name": "sql"
     },
     {
      "aliases": [],
      "name": "value"
     }
    ]
   }
  }
 },
 "nbformat": 4,
 "nbformat_minor": 2
}
