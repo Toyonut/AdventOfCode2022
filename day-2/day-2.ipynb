{
 "cells": [
  {
   "cell_type": "markdown",
   "metadata": {},
   "source": [
    "Find the score for a game given the cheat sheet\n",
    "\n",
    "The score for a single round is the score for the shape you selected (1 for Rock, 2 for Paper, and 3 for Scissors) plus the score for the outcome of the round (0 if you lost, 3 if the round was a draw, and 6 if you won)."
   ]
  },
  {
   "cell_type": "code",
   "execution_count": 11,
   "metadata": {
    "dotnet_interactive": {
     "language": "csharp"
    },
    "polyglot_notebook": {
     "language": "csharp"
    },
    "vscode": {
     "languageId": "dotnet-interactive.csharp"
    }
   },
   "outputs": [
    {
     "name": "stdout",
     "output_type": "stream",
     "text": [
      "13052\n"
     ]
    }
   ],
   "source": [
    "var inputLines = System.IO.File.ReadAllLines(@\"./input-2.txt\");\n",
    "\n",
    "var score = 0;\n",
    "\n",
    "public enum shapes\n",
    "{\n",
    "    rock = 1, // rock\n",
    "    paper = 2, // paper \n",
    "    scissors = 3 // scissors\n",
    "};\n",
    "\n",
    "public enum result\n",
    "{\n",
    "    win = 6,\n",
    "    draw = 3,\n",
    "    lose = 0\n",
    "}\n",
    "\n",
    "foreach (var line in inputLines)\n",
    "{\n",
    "    var opponentPlay = line.Split(\" \")[0];\n",
    "    var youPlay = line.Split(\" \")[1];\n",
    "\n",
    "    switch (opponentPlay)\n",
    "    {\n",
    "        case \"A\": // opponent rock\n",
    "            if (youPlay == \"X\") // rock draw\n",
    "            {\n",
    "                score += (shapes.rock.GetHashCode() + result.draw.GetHashCode());\n",
    "            }\n",
    "            else if (youPlay == \"Y\") // paper win\n",
    "            {\n",
    "                score += (shapes.paper.GetHashCode() + result.win.GetHashCode());\n",
    "            }\n",
    "            else if (youPlay == \"Z\") // scissors lose\n",
    "            {\n",
    "                score += (shapes.scissors.GetHashCode() + result.lose.GetHashCode());\n",
    "            }\n",
    "        break;\n",
    "        case \"B\": // opponent paper\n",
    "            if (youPlay == \"X\") // rock lose\n",
    "            {\n",
    "                score += (shapes.rock.GetHashCode() + result.lose.GetHashCode());\n",
    "            }\n",
    "            else if (youPlay == \"Y\") // paper draw\n",
    "            {\n",
    "                score += (shapes.paper.GetHashCode() + result.draw.GetHashCode());\n",
    "            }\n",
    "            else if (youPlay == \"Z\") // scissors win\n",
    "            {\n",
    "                score += (shapes.scissors.GetHashCode() + result.win.GetHashCode());\n",
    "            }\n",
    "        break;\n",
    "        case \"C\": // opponent scissors\n",
    "            if (youPlay == \"X\") // rock win\n",
    "            {\n",
    "                score += (shapes.rock.GetHashCode() + result.win.GetHashCode());\n",
    "            }\n",
    "            else if (youPlay == \"Y\") // paper lose\n",
    "            {\n",
    "                score += (shapes.paper.GetHashCode() + result.lose.GetHashCode());\n",
    "            }\n",
    "            else if (youPlay == \"Z\") // scissors draw\n",
    "            {\n",
    "                score += (shapes.scissors.GetHashCode() + result.draw.GetHashCode());\n",
    "            }\n",
    "        break;\n",
    "        default:\n",
    "            Console.WriteLine(\"Value didn't match\");\n",
    "        break;\n",
    "    }\n",
    "}\n",
    "\n",
    "Console.WriteLine(score);\n"
   ]
  },
  {
   "cell_type": "markdown",
   "metadata": {},
   "source": [
    "The Elf finishes helping with the tent and sneaks back over to you. \"Anyway, the second column says how the round needs to end: X means you need to lose, Y means you need to end the round in a draw, and Z means you need to win. Good luck!\""
   ]
  },
  {
   "cell_type": "code",
   "execution_count": null,
   "metadata": {
    "dotnet_interactive": {
     "language": "csharp"
    },
    "vscode": {
     "languageId": "dotnet-interactive.csharp"
    }
   },
   "outputs": [],
   "source": [
    "var inputLines = System.IO.File.ReadAllLines(@\"./input-2.txt\");\n",
    "\n",
    "var score = 0;\n",
    "\n",
    "public enum shapes\n",
    "{\n",
    "    rock = 1, // rock\n",
    "    paper = 2, // paper \n",
    "    scissors = 3 // scissors\n",
    "};\n",
    "\n",
    "public enum result\n",
    "{\n",
    "    win = 6,\n",
    "    draw = 3,\n",
    "    lose = 0\n",
    "}\n",
    "\n",
    "foreach (var line in inputLines)\n",
    "{\n",
    "    var opponentPlay = line.Split(\" \")[0];\n",
    "    var youPlay = line.Split(\" \")[1];\n",
    "\n",
    "    switch (opponentPlay)\n",
    "    {\n",
    "        case \"A\": // opponent rock\n",
    "            if (youPlay == \"X\") // lose\n",
    "            {\n",
    "                score += (shapes.scissors.GetHashCode() + result.lose.GetHashCode());\n",
    "            }\n",
    "            else if (youPlay == \"Y\") // draw\n",
    "            {\n",
    "                score += (shapes.rock.GetHashCode() + result.draw.GetHashCode());\n",
    "            }\n",
    "            else if (youPlay == \"Z\") // win\n",
    "            {\n",
    "                score += (shapes.paper.GetHashCode() + result.win.GetHashCode());\n",
    "            }\n",
    "        break;\n",
    "        case \"B\": // opponent paper\n",
    "            if (youPlay == \"X\") //  lose\n",
    "            {\n",
    "                score += (shapes.rock.GetHashCode() + result.lose.GetHashCode());\n",
    "            }\n",
    "            else if (youPlay == \"Y\") // draw\n",
    "            {\n",
    "                score += (shapes.paper.GetHashCode() + result.draw.GetHashCode());\n",
    "            }\n",
    "            else if (youPlay == \"Z\") // win\n",
    "            {\n",
    "                score += (shapes.scissors.GetHashCode() + result.win.GetHashCode());\n",
    "            }\n",
    "        break;\n",
    "        case \"C\": // opponent scissors\n",
    "            if (youPlay == \"X\") // lose\n",
    "            {\n",
    "                score += (shapes.paper.GetHashCode() + result.lose.GetHashCode());\n",
    "            }\n",
    "            else if (youPlay == \"Y\") // draw\n",
    "            {\n",
    "                score += (shapes.scissors.GetHashCode() + result.draw.GetHashCode());\n",
    "            }\n",
    "            else if (youPlay == \"Z\") // win\n",
    "            {\n",
    "                score += (shapes.rock.GetHashCode() + result.win.GetHashCode());\n",
    "            }\n",
    "        break;\n",
    "        default:\n",
    "            Console.WriteLine(\"Value didn't match\");\n",
    "        break;\n",
    "    }\n",
    "}\n",
    "\n",
    "Console.WriteLine(score);"
   ]
  }
 ],
 "metadata": {
  "kernelspec": {
   "display_name": ".NET (C#)",
   "language": "C#",
   "name": ".net-csharp"
  },
  "language_info": {
   "name": "C#"
  }
 },
 "nbformat": 4,
 "nbformat_minor": 2
}
