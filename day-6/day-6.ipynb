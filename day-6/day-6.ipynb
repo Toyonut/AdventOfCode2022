{
 "cells": [
  {
   "attachments": {},
   "cell_type": "markdown",
   "metadata": {},
   "source": [
    "The device will send your subroutine a datastream buffer (your puzzle input); your subroutine needs to identify the first position where the four most recently received characters were all different. Specifically, it needs to report the number of characters from the beginning of the buffer to the end of the first such four-character marker.\n",
    "\n",
    "For example, suppose you receive the following datastream buffer:\n",
    "\n",
    "mjqjpqmgbljsphdztnvjfqwrcgsmlb\n",
    "After the first three characters (mjq) have been received, there haven't been enough characters received yet to find the marker. The first time a marker could occur is after the fourth character is received, making the most recent four characters mjqj. Because j is repeated, this isn't a marker.\n",
    "\n",
    "The first time a marker appears is after the seventh character arrives. Once it does, the last four characters received are jpqm, which are all different. In this case, your subroutine should report the value 7, because the first start-of-packet marker is complete after 7 characters have been processed."
   ]
  },
  {
   "cell_type": "code",
   "execution_count": 72,
   "metadata": {
    "dotnet_interactive": {
     "language": "csharp"
    },
    "polyglot_notebook": {
     "kernelName": "csharp"
    },
    "vscode": {
     "languageId": "polyglot-notebook"
    }
   },
   "outputs": [],
   "source": [
    "public class QuadString\n",
    "{\n",
    "    public int EndIndex {get; set;}\n",
    "    public string Text {get; set;}\n",
    "}\n",
    "\n",
    "public List<QuadString> SplitBuffer (string FullBuffer)\n",
    "{\n",
    "    var quadStringList = new List<QuadString>();\n",
    "\n",
    "    for (var i = 4; i < FullBuffer.Length; i ++)\n",
    "    {\n",
    "        var substring = FullBuffer.Substring(i - 4, 4);\n",
    "\n",
    "        quadStringList.Add(new QuadString(){EndIndex = i, Text = substring});\n",
    "    }\n",
    "\n",
    "    return quadStringList;\n",
    "} "
   ]
  },
  {
   "cell_type": "code",
   "execution_count": 73,
   "metadata": {
    "dotnet_interactive": {
     "language": "csharp"
    },
    "polyglot_notebook": {
     "kernelName": "csharp"
    },
    "vscode": {
     "languageId": "polyglot-notebook"
    }
   },
   "outputs": [],
   "source": [
    "public bool HasNoDupes (QuadString QuadStringToCheck)\n",
    "{\n",
    "    var distinctCharCount = QuadStringToCheck.Text.GroupBy(c => c).Select(group => group).Count();\n",
    "\n",
    "    // Console.WriteLine($\"string {QuadStringToCheck.Text} with index {QuadStringToCheck.EndIndex} has {distinctCharCount} distinct characters\"); \n",
    "\n",
    "    if (distinctCharCount == 4)\n",
    "    {\n",
    "        return true;\n",
    "    }\n",
    "\n",
    "    return false;\n",
    "}"
   ]
  },
  {
   "cell_type": "code",
   "execution_count": 74,
   "metadata": {
    "dotnet_interactive": {
     "language": "csharp"
    },
    "polyglot_notebook": {
     "kernelName": "csharp"
    },
    "vscode": {
     "languageId": "polyglot-notebook"
    }
   },
   "outputs": [
    {
     "name": "stdout",
     "output_type": "stream",
     "text": [
      "1582\n"
     ]
    }
   ],
   "source": [
    "var problemData = System.IO.File.ReadAllText(@\"./puzzle-data.txt\");\n",
    "\n",
    "var quadBuffers = SplitBuffer(problemData);\n",
    "\n",
    "foreach (var quadBuffer in quadBuffers)\n",
    "{\n",
    "    if (HasNoDupes(quadBuffer))\n",
    "    {\n",
    "        Console.WriteLine($\"{quadBuffer.EndIndex}\");\n",
    "        break;\n",
    "    }\n",
    "}"
   ]
  }
 ],
 "metadata": {
  "kernelspec": {
   "display_name": ".NET (C#)",
   "language": "C#",
   "name": ".net-csharp"
  },
  "polyglot_notebook": {
   "kernelInfo": {
    "defaultKernelName": "csharp",
    "items": [
     {
      "aliases": [
       "c#",
       "C#"
      ],
      "languageName": "C#",
      "name": "csharp"
     },
     {
      "aliases": [
       "frontend"
      ],
      "languageName": null,
      "name": "vscode"
     }
    ]
   }
  }
 },
 "nbformat": 4,
 "nbformat_minor": 2
}
