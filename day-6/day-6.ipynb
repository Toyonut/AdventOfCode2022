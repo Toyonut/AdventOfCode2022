{
 "cells": [
  {
   "attachments": {},
   "cell_type": "markdown",
   "metadata": {},
   "source": [
    "The device will send your subroutine a datastream buffer (your puzzle input); your subroutine needs to identify the first position where the four most recently received characters were all different. Specifically, it needs to report the number of characters from the beginning of the buffer to the end of the first such four-character marker.\n",
    "\n",
    "For example, suppose you receive the following datastream buffer:\n",
    "\n",
    "mjqjpqmgbljsphdztnvjfqwrcgsmlb\n",
    "After the first three characters (mjq) have been received, there haven't been enough characters received yet to find the marker. The first time a marker could occur is after the fourth character is received, making the most recent four characters mjqj. Because j is repeated, this isn't a marker.\n",
    "\n",
    "The first time a marker appears is after the seventh character arrives. Once it does, the last four characters received are jpqm, which are all different. In this case, your subroutine should report the value 7, because the first start-of-packet marker is complete after 7 characters have been processed."
   ]
  },
  {
   "cell_type": "code",
   "execution_count": 120,
   "metadata": {
    "dotnet_interactive": {
     "language": "csharp"
    },
    "polyglot_notebook": {
     "kernelName": "csharp"
    },
    "vscode": {
     "languageId": "polyglot-notebook"
    }
   },
   "outputs": [],
   "source": [
    "public class QuadString\n",
    "{\n",
    "    public int EndIndex {get; set;}\n",
    "    public string Text {get; set;}\n",
    "}\n",
    "\n",
    "public List<QuadString> SplitBuffer (string FullBuffer, int stringLength = 4)\n",
    "{\n",
    "    var quadStringList = new List<QuadString>();\n",
    "\n",
    "    for (var i = stringLength; i <= FullBuffer.Length; i ++)\n",
    "    {\n",
    "        var substring = FullBuffer.Substring(i - stringLength, stringLength);\n",
    "\n",
    "        quadStringList.Add(new QuadString(){EndIndex = i, Text = substring});\n",
    "    }\n",
    "\n",
    "    return quadStringList;\n",
    "} "
   ]
  },
  {
   "cell_type": "code",
   "execution_count": 121,
   "metadata": {
    "dotnet_interactive": {
     "language": "csharp"
    },
    "polyglot_notebook": {
     "kernelName": "csharp"
    },
    "vscode": {
     "languageId": "polyglot-notebook"
    }
   },
   "outputs": [],
   "source": [
    "public bool HasNoDupes (QuadString QuadStringToCheck, int stringLength = 4)\n",
    "{\n",
    "    var distinctCharCount = QuadStringToCheck.Text.GroupBy(c => c).Select(group => group).Count();\n",
    "\n",
    "    // Console.WriteLine($\"string {QuadStringToCheck.Text} with index {QuadStringToCheck.EndIndex} has {distinctCharCount} distinct characters\"); \n",
    "\n",
    "    if (distinctCharCount == stringLength)\n",
    "    {\n",
    "        return true;\n",
    "    }\n",
    "\n",
    "    return false;\n",
    "}"
   ]
  },
  {
   "cell_type": "code",
   "execution_count": 122,
   "metadata": {
    "dotnet_interactive": {
     "language": "csharp"
    },
    "polyglot_notebook": {
     "kernelName": "csharp"
    },
    "vscode": {
     "languageId": "polyglot-notebook"
    }
   },
   "outputs": [
    {
     "name": "stdout",
     "output_type": "stream",
     "text": [
      "1582\n",
      "3588\n"
     ]
    },
    {
     "data": {
      "text/html": [
       "<table><thead><tr><th><i>index</i></th><th>EndIndex</th><th>Text</th></tr></thead><tbody><tr><td>0</td><td><div class=\"dni-plaintext\"><pre>14</pre></div></td><td>zcfzfwzzqfrljw</td></tr><tr><td>1</td><td><div class=\"dni-plaintext\"><pre>15</pre></div></td><td>cfzfwzzqfrljwz</td></tr><tr><td>2</td><td><div class=\"dni-plaintext\"><pre>16</pre></div></td><td>fzfwzzqfrljwzl</td></tr><tr><td>3</td><td><div class=\"dni-plaintext\"><pre>17</pre></div></td><td>zfwzzqfrljwzlr</td></tr><tr><td>4</td><td><div class=\"dni-plaintext\"><pre>18</pre></div></td><td>fwzzqfrljwzlrf</td></tr><tr><td>5</td><td><div class=\"dni-plaintext\"><pre>19</pre></div></td><td>wzzqfrljwzlrfn</td></tr><tr><td>6</td><td><div class=\"dni-plaintext\"><pre>20</pre></div></td><td>zzqfrljwzlrfnp</td></tr><tr><td>7</td><td><div class=\"dni-plaintext\"><pre>21</pre></div></td><td>zqfrljwzlrfnpq</td></tr><tr><td>8</td><td><div class=\"dni-plaintext\"><pre>22</pre></div></td><td>qfrljwzlrfnpqd</td></tr><tr><td>9</td><td><div class=\"dni-plaintext\"><pre>23</pre></div></td><td>frljwzlrfnpqdb</td></tr><tr><td>10</td><td><div class=\"dni-plaintext\"><pre>24</pre></div></td><td>rljwzlrfnpqdbh</td></tr><tr><td>11</td><td><div class=\"dni-plaintext\"><pre>25</pre></div></td><td>ljwzlrfnpqdbht</td></tr><tr><td>12</td><td><div class=\"dni-plaintext\"><pre>26</pre></div></td><td>jwzlrfnpqdbhtm</td></tr><tr><td>13</td><td><div class=\"dni-plaintext\"><pre>27</pre></div></td><td>wzlrfnpqdbhtms</td></tr><tr><td>14</td><td><div class=\"dni-plaintext\"><pre>28</pre></div></td><td>zlrfnpqdbhtmsc</td></tr><tr><td>15</td><td><div class=\"dni-plaintext\"><pre>29</pre></div></td><td>lrfnpqdbhtmscg</td></tr><tr><td>16</td><td><div class=\"dni-plaintext\"><pre>30</pre></div></td><td>rfnpqdbhtmscgv</td></tr><tr><td>17</td><td><div class=\"dni-plaintext\"><pre>31</pre></div></td><td>fnpqdbhtmscgvj</td></tr><tr><td>18</td><td><div class=\"dni-plaintext\"><pre>32</pre></div></td><td>npqdbhtmscgvjw</td></tr></tbody></table><style>\r\n",
       ".dni-code-hint {\r\n",
       "    font-style: italic;\r\n",
       "    overflow: hidden;\r\n",
       "    white-space: nowrap;\r\n",
       "}\r\n",
       ".dni-treeview {\r\n",
       "    white-space: nowrap;\r\n",
       "}\r\n",
       ".dni-treeview td {\r\n",
       "    vertical-align: top;\r\n",
       "    text-align: start;\r\n",
       "}\r\n",
       "details.dni-treeview {\r\n",
       "    padding-left: 1em;\r\n",
       "}\r\n",
       "table td {\r\n",
       "    text-align: start;\r\n",
       "}\r\n",
       "table tr { \r\n",
       "    vertical-align: top; \r\n",
       "    margin: 0em 0px;\r\n",
       "}\r\n",
       "table tr td pre \r\n",
       "{ \r\n",
       "    vertical-align: top !important; \r\n",
       "    margin: 0em 0px !important;\r\n",
       "} \r\n",
       "table th {\r\n",
       "    text-align: start;\r\n",
       "}\r\n",
       "</style>"
      ]
     },
     "metadata": {},
     "output_type": "display_data"
    }
   ],
   "source": [
    "var problemData = System.IO.File.ReadAllText(@\"./puzzle-data.txt\");\n",
    "\n",
    "var quadBuffers = SplitBuffer(problemData);\n",
    "\n",
    "foreach (var quadBuffer in quadBuffers)\n",
    "{\n",
    "    if (HasNoDupes(quadBuffer))\n",
    "    {\n",
    "        Console.WriteLine($\"{quadBuffer.EndIndex}\");\n",
    "        break;\n",
    "    }\n",
    "}\n",
    "\n",
    "var Messages = SplitBuffer(problemData, 14);\n",
    "\n",
    "foreach (var Message in Messages)\n",
    "{\n",
    "    if (HasNoDupes(Message, 14))\n",
    "    {\n",
    "        Console.WriteLine($\"{Message.EndIndex}\");\n",
    "        break;\n",
    "    }\n",
    "}\n",
    "\n"
   ]
  }
 ],
 "metadata": {
  "kernelspec": {
   "display_name": ".NET (C#)",
   "language": "C#",
   "name": ".net-csharp"
  },
  "polyglot_notebook": {
   "kernelInfo": {
    "defaultKernelName": "csharp",
    "items": [
     {
      "aliases": [
       "c#",
       "C#"
      ],
      "languageName": "C#",
      "name": "csharp"
     },
     {
      "aliases": [
       "frontend"
      ],
      "languageName": null,
      "name": "vscode"
     }
    ]
   }
  }
 },
 "nbformat": 4,
 "nbformat_minor": 2
}
