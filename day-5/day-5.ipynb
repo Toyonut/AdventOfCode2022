{
 "cells": [
  {
   "cell_type": "markdown",
   "metadata": {
    "dotnet_interactive": {
     "language": "csharp"
    },
    "polyglot_notebook": {
     "kernelName": "csharp"
    }
   },
   "source": [
    "    [D]    \n",
    "[N] [C]    \n",
    "[Z] [M] [P]\n",
    " 1   2   3 \n",
    "\n",
    "move 1 from 2 to 1\n",
    "move 3 from 1 to 3\n",
    "move 2 from 2 to 1\n",
    "move 1 from 1 to 2\n",
    "\n",
    "In this example, there are three stacks of crates. Stack 1 contains two crates: crate Z is on the bottom, and crate N is on top. Stack 2 contains three crates; from bottom to top, they are crates M, C, and D. Finally, stack 3 contains a single crate, P.\n",
    "\n",
    "Then, the rearrangement procedure is given. In each step of the procedure, a quantity of crates is moved from one stack to a different stack. In the first step of the above rearrangement procedure, one crate is moved from stack 2 to stack 1, resulting in this configuration:\n",
    "\n",
    "[D]        \n",
    "[N] [C]    \n",
    "[Z] [M] [P]\n",
    " 1   2   3 \n",
    "In the second step, three crates are moved from stack 1 to stack 3. Crates are moved one at a time, so the first crate to be moved (D) ends up below the second and third crates:\n",
    "\n",
    "        [Z]\n",
    "        [N]\n",
    "    [C] [D]\n",
    "    [M] [P]\n",
    " 1   2   3\n",
    "Then, both crates are moved from stack 2 to stack 1. Again, because crates are moved one at a time, crate C ends up below crate M:\n",
    "\n",
    "        [Z]\n",
    "        [N]\n",
    "[M]     [D]\n",
    "[C]     [P]\n",
    " 1   2   3\n",
    "Finally, one crate is moved from stack 1 to stack 2:\n",
    "\n",
    "        [Z]\n",
    "        [N]\n",
    "        [D]\n",
    "[C] [M] [P]\n",
    " 1   2   3\n",
    "The Elves just need to know which crate will end up on top of each stack; in this example, the top crates are C in stack 1, M in stack 2, and Z in stack 3, so you should combine these together and give the Elves the message CMZ.\n",
    "\n",
    "After the rearrangement procedure completes, what crate ends up on top of each stack?"
   ]
  },
  {
   "cell_type": "code",
   "execution_count": 293,
   "metadata": {
    "dotnet_interactive": {
     "language": "csharp"
    },
    "polyglot_notebook": {
     "kernelName": "csharp"
    },
    "vscode": {
     "languageId": "polyglot-notebook"
    }
   },
   "outputs": [],
   "source": [
    "public List<Stack<string>> StringToGrid(string inputData)\n",
    "{\n",
    "    var splitLines = inputData.Split(Environment.NewLine);\n",
    "\n",
    "    var stackCount = splitLines[0].Chunk(4).ToList().Count;\n",
    "    List<Stack<string>> stackList = new List<Stack<string>>();\n",
    "\n",
    "    for (var i=0; i < stackCount; i++)\n",
    "    {\n",
    "        stackList.Add(new Stack<string>());\n",
    "    }\n",
    "\n",
    "    for (var i = 0; i < splitLines.Length - 1; i++) // discard the stack counter at and of data\n",
    "    {\n",
    "        var line = splitLines[i];\n",
    "        var crates = line.Chunk(4).ToList();\n",
    "\n",
    "        for (var chunkCount = 0; chunkCount < stackCount; chunkCount ++)\n",
    "        {\n",
    "            var crate = string.Join(\"\", crates[chunkCount]).Replace(\"]\", \"\").Replace(\"[\", \"\").Trim();\n",
    "            if (!string.IsNullOrWhiteSpace(crate))\n",
    "            {   \n",
    "                stackList[chunkCount].Push(crate);\n",
    "            }\n",
    "            \n",
    "        }\n",
    "    };\n",
    "    return stackList;\n",
    "}"
   ]
  },
  {
   "cell_type": "code",
   "execution_count": 294,
   "metadata": {
    "dotnet_interactive": {
     "language": "csharp"
    },
    "polyglot_notebook": {
     "kernelName": "csharp"
    },
    "vscode": {
     "languageId": "polyglot-notebook"
    }
   },
   "outputs": [],
   "source": [
    "public List<Stack<string>> ReverseStacks(List<Stack<string>> inputStackList)\n",
    "{\n",
    "    List<Stack<string>> stackList = new List<Stack<string>>();\n",
    "\n",
    "    foreach (var stack in inputStackList)\n",
    "    {\n",
    "        var reversedStack = new Stack<string>();\n",
    "        stack.ToList().ForEach(crate => reversedStack.Push(string.Join(\"\", crate)));\n",
    "\n",
    "        stackList.Add(reversedStack);\n",
    "    }\n",
    "\n",
    "    return stackList;\n",
    "}"
   ]
  },
  {
   "cell_type": "code",
   "execution_count": 295,
   "metadata": {
    "dotnet_interactive": {
     "language": "csharp"
    },
    "polyglot_notebook": {
     "kernelName": "csharp"
    },
    "vscode": {
     "languageId": "polyglot-notebook"
    }
   },
   "outputs": [],
   "source": [
    "// move 1 from 2 to 1\n",
    "public class Move\n",
    "{\n",
    "    public int MoveCount {get; set;} \n",
    "    public int FromStack {get; set;} \n",
    "    public int ToStack {get; set;}\n",
    "    public Move (int moveCount, int fromStack, int toStack)\n",
    "    {\n",
    "        MoveCount = moveCount;\n",
    "        FromStack = fromStack;\n",
    "        ToStack = toStack;\n",
    "    }\n",
    "}\n",
    "\n",
    "public List<Move> ParseInstructions(string MoveOperations)\n",
    "{\n",
    "    List<Move> Moves = new List<Move>();\n",
    "    var ops = MoveOperations.Split(Environment.NewLine);\n",
    "\n",
    "    foreach (var op in ops)\n",
    "    {\n",
    "        var parts = System.Text.RegularExpressions.Regex.Match(op.TrimEnd(), @\"move (\\d+) from (\\d+) to (\\d+)\");\n",
    "\n",
    "        var moveCount = parts.Groups[1].Value;\n",
    "        var fromStack = parts.Groups[2].Value;\n",
    "        var toStack = parts.Groups[3].Value;\n",
    "\n",
    "        Moves.Add(new Move(int.Parse(moveCount), int.Parse(fromStack), int.Parse(toStack)));\n",
    "    }\n",
    "\n",
    "    return Moves;\n",
    "}   "
   ]
  },
  {
   "cell_type": "code",
   "execution_count": 296,
   "metadata": {
    "dotnet_interactive": {
     "language": "csharp"
    },
    "polyglot_notebook": {
     "kernelName": "csharp"
    },
    "vscode": {
     "languageId": "polyglot-notebook"
    }
   },
   "outputs": [],
   "source": [
    "public List<Stack<string>> PerformMove (List<Stack<string>> stacks, Move move)\n",
    "{\n",
    "    var sourceStack = move.FromStack - 1;\n",
    "    var destStack = move.ToStack - 1;\n",
    "\n",
    "    for (var i = 0; i < move.MoveCount; i++)\n",
    "    {\n",
    "        var container = stacks[sourceStack].Pop();\n",
    "        // Console.WriteLine($\"moving container {container} from stack {sourceStack} to stack {destStack}\");\n",
    "\n",
    "        stacks[destStack].Push(container);\n",
    "    }\n",
    "\n",
    "    return stacks;\n",
    "}"
   ]
  },
  {
   "cell_type": "code",
   "execution_count": null,
   "metadata": {
    "dotnet_interactive": {
     "language": "csharp"
    },
    "polyglot_notebook": {
     "kernelName": "csharp"
    },
    "vscode": {
     "languageId": "polyglot-notebook"
    }
   },
   "outputs": [],
   "source": [
    "public List<Stack<string>> PerformMove9001 (List<Stack<string>> stacks, Move move)\n",
    "{\n",
    "    var sourceStack = move.FromStack - 1;\n",
    "    var destStack = move.ToStack - 1;\n",
    "\n",
    "    var intermediateStack = new Stack<string>();\n",
    "\n",
    "    for (var i = 0; i < move.MoveCount; i++)\n",
    "    {\n",
    "        var container = stacks[sourceStack].Pop();\n",
    "        // Console.WriteLine($\"moving container {container} from stack {sourceStack} to stack {destStack}\");\n",
    "\n",
    "        intermediateStack.Push(container);\n",
    "    }\n",
    "\n",
    "    foreach (var crate in intermediateStack)\n",
    "    {\n",
    "        stacks[destStack].Push(crate);\n",
    "    }\n",
    "\n",
    "    return stacks;\n",
    "}"
   ]
  },
  {
   "cell_type": "code",
   "execution_count": 297,
   "metadata": {
    "dotnet_interactive": {
     "language": "csharp"
    },
    "polyglot_notebook": {
     "language": "csharp"
    },
    "vscode": {
     "languageId": "polyglot-notebook"
    }
   },
   "outputs": [
    {
     "name": "stdout",
     "output_type": "stream",
     "text": [
      "PTWLTDSJV"
     ]
    }
   ],
   "source": [
    "var problemData = System.IO.File.ReadAllText(@\"./puzzle-data.txt\");\n",
    "\n",
    "var splitData = problemData.Split($\"{Environment.NewLine}{Environment.NewLine}\");\n",
    "\n",
    "var crateStack = splitData[0];\n",
    "var ops = splitData[1];\n",
    "\n",
    "var stacks = ReverseStacks(StringToGrid(crateStack));\n",
    "var instructions = ParseInstructions(ops);\n",
    "\n",
    "foreach (var instruction in instructions)\n",
    "{\n",
    "    stacks = PerformMove9001(stacks, instruction);\n",
    "}\n",
    "\n",
    "foreach (var stack in stacks)\n",
    "{\n",
    "    Console.Write(stack.Peek());\n",
    "}\n"
   ]
  }
 ],
 "metadata": {
  "kernelspec": {
   "display_name": ".NET (C#)",
   "language": "C#",
   "name": ".net-csharp"
  },
  "polyglot_notebook": {
   "kernelInfo": {
    "defaultKernelName": "csharp",
    "items": [
     {
      "aliases": [
       "c#",
       "C#"
      ],
      "languageName": "C#",
      "name": "csharp"
     },
     {
      "aliases": [],
      "name": ".NET"
     },
     {
      "aliases": [
       "frontend"
      ],
      "name": "vscode"
     },
     {
      "aliases": [
       "f#",
       "F#"
      ],
      "languageName": "F#",
      "name": "fsharp"
     },
     {
      "aliases": [],
      "languageName": "HTML",
      "name": "html"
     },
     {
      "aliases": [
       "js"
      ],
      "languageName": "JavaScript",
      "name": "javascript"
     },
     {
      "aliases": [],
      "languageName": "KQL",
      "name": "kql"
     },
     {
      "aliases": [],
      "languageName": "Mermaid",
      "name": "mermaid"
     },
     {
      "aliases": [
       "powershell"
      ],
      "languageName": "PowerShell",
      "name": "pwsh"
     },
     {
      "aliases": [],
      "languageName": "SQL",
      "name": "sql"
     },
     {
      "aliases": [],
      "name": "value"
     },
     {
      "aliases": [],
      "name": "webview"
     }
    ]
   }
  }
 },
 "nbformat": 4,
 "nbformat_minor": 2
}
