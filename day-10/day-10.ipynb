{
 "cells": [
  {
   "attachments": {},
   "cell_type": "markdown",
   "metadata": {},
   "source": [
    "Start by figuring out the signal being sent by the CPU. The CPU has a single register, X, which starts with the value 1. It supports only two instructions:\n",
    "\n",
    "    addx V takes two cycles to complete. After two cycles, the X register is increased by the value V. (V can be negative.)\n",
    "    noop takes one cycle to complete. It has no other effect.\n",
    "\n",
    "Execution of this program proceeds as follows:\n",
    "\n",
    "    At the start of the first cycle, the noop instruction begins execution. During the first cycle, X is 1. After the first cycle, the noop instruction finishes execution, doing nothing.\n",
    "    At the start of the second cycle, the addx 3 instruction begins execution. During the second cycle, X is still 1.\n",
    "    During the third cycle, X is still 1. After the third cycle, the addx 3 instruction finishes execution, setting X to 4.\n",
    "    At the start of the fourth cycle, the addx -5 instruction begins execution. During the fourth cycle, X is still 4.\n",
    "    During the fifth cycle, X is still 4. After the fifth cycle, the addx -5 instruction finishes execution, setting X to -1.\n",
    "\n",
    "The interesting signal strengths can be determined as follows:\n",
    "\n",
    "    During the 20th cycle, register X has the value 21, so the signal strength is 20 * 21 = 420. (The 20th cycle occurs in the middle of the second addx -1, so the value of register X is the starting value, 1, plus all of the other addx values up to that point: 1 + 15 - 11 + 6 - 3 + 5 - 1 - 8 + 13 + 4 = 21.)\n",
    "    During the 60th cycle, register X has the value 19, so the signal strength is 60 * 19 = 1140.\n",
    "    During the 100th cycle, register X has the value 18, so the signal strength is 100 * 18 = 1800.\n",
    "    During the 140th cycle, register X has the value 21, so the signal strength is 140 * 21 = 2940.\n",
    "    During the 180th cycle, register X has the value 16, so the signal strength is 180 * 16 = 2880.\n",
    "    During the 220th cycle, register X has the value 18, so the signal strength is 220 * 18 = 3960.\n",
    "\n",
    "The sum of these signal strengths is 13140.\n",
    "\n",
    "Find the signal strength during the 20th, 60th, 100th, 140th, 180th, and 220th cycles. What is the sum of these six signal strengths?\n"
   ]
  },
  {
   "cell_type": "code",
   "execution_count": 15,
   "metadata": {
    "dotnet_interactive": {
     "language": "csharp"
    },
    "polyglot_notebook": {
     "kernelName": "csharp"
    },
    "vscode": {
     "languageId": "polyglot-notebook"
    }
   },
   "outputs": [
    {
     "name": "stdout",
     "output_type": "stream",
     "text": [
      "17 : 20 : 340\n",
      "2 : 60 : 120\n",
      "39 : 100 : 3900\n",
      "17 : 140 : 2380\n",
      "21 : 180 : 3780\n",
      "22 : 220 : 4840\n"
     ]
    },
    {
     "data": {
      "text/html": [
       "<div class=\"dni-plaintext\"><pre>15360</pre></div><style>\r\n",
       ".dni-code-hint {\r\n",
       "    font-style: italic;\r\n",
       "    overflow: hidden;\r\n",
       "    white-space: nowrap;\r\n",
       "}\r\n",
       ".dni-treeview {\r\n",
       "    white-space: nowrap;\r\n",
       "}\r\n",
       ".dni-treeview td {\r\n",
       "    vertical-align: top;\r\n",
       "    text-align: start;\r\n",
       "}\r\n",
       "details.dni-treeview {\r\n",
       "    padding-left: 1em;\r\n",
       "}\r\n",
       "table td {\r\n",
       "    text-align: start;\r\n",
       "}\r\n",
       "table tr { \r\n",
       "    vertical-align: top; \r\n",
       "    margin: 0em 0px;\r\n",
       "}\r\n",
       "table tr td pre \r\n",
       "{ \r\n",
       "    vertical-align: top !important; \r\n",
       "    margin: 0em 0px !important;\r\n",
       "} \r\n",
       "table th {\r\n",
       "    text-align: start;\r\n",
       "}\r\n",
       "</style>"
      ]
     },
     "metadata": {},
     "output_type": "display_data"
    }
   ],
   "source": [
    "var problemData = System.IO.File.ReadAllLines(@\"./puzzle-data.txt\");\n",
    "\n",
    "// problemData\n",
    "\n",
    "int x = 1;\n",
    "int cycleCount = 0;\n",
    "\n",
    "var cyclesToCheck = new int[]{20, 60, 100, 140, 180, 220}.ToList<int>();\n",
    "var signalStrength = 0;\n",
    "\n",
    "foreach (var line in problemData) {\n",
    "    if (line == \"noop\") {\n",
    "        cycleCount ++;\n",
    "        if (cyclesToCheck.Contains(cycleCount)) {\n",
    "            Console.WriteLine($\"{x} : {cycleCount} : { x * cycleCount}\");\n",
    "            signalStrength += x * cycleCount;\n",
    "        }\n",
    "    } else {\n",
    "        var addXValue = int.Parse(line.Split()[1]);\n",
    "    \n",
    "        cycleCount ++;\n",
    "        \n",
    "        if (cyclesToCheck.Contains(cycleCount)) {\n",
    "            Console.WriteLine($\"{x} : {cycleCount} : { x * cycleCount}\");\n",
    "            signalStrength += x * cycleCount;\n",
    "        }\n",
    "\n",
    "        cycleCount ++;\n",
    "\n",
    "        if (cyclesToCheck.Contains(cycleCount)) {\n",
    "            Console.WriteLine($\"{x} : {cycleCount} : { x * cycleCount}\");\n",
    "            signalStrength += x * cycleCount;\n",
    "        }\n",
    "\n",
    "        x += addXValue;\n",
    "    }\n",
    "}\n",
    "\n",
    "signalStrength\n",
    "\n",
    "\n",
    "\n",
    "\n",
    "\n",
    "\n"
   ]
  }
 ],
 "metadata": {
  "kernelspec": {
   "display_name": ".NET (C#)",
   "language": "C#",
   "name": ".net-csharp"
  },
  "polyglot_notebook": {
   "kernelInfo": {
    "defaultKernelName": "csharp",
    "items": [
     {
      "aliases": [
       "c#",
       "C#"
      ],
      "languageName": "C#",
      "name": "csharp"
     },
     {
      "aliases": [],
      "languageName": null,
      "name": ".NET"
     },
     {
      "aliases": [
       "frontend"
      ],
      "languageName": null,
      "name": "vscode"
     }
    ]
   }
  }
 },
 "nbformat": 4,
 "nbformat_minor": 2
}
